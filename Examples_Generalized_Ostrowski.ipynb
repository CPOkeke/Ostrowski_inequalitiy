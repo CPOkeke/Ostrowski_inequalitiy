{
 "cells": [
  {
   "cell_type": "code",
   "execution_count": 1,
   "metadata": {},
   "outputs": [],
   "source": [
    "import Ostrowski_module as ostrowski\n",
    "import sys\n",
    "from sage.all import *\n",
    "from sympy import Function, Symbol,symbols,cancel,N,sqrt,Rational, Float, nsimplify\n",
    "import numpy as np\n",
    "from scipy.special import comb\n",
    "import time\n",
    "import sympy as sp\n",
    "import matplotlib.pyplot as plt\n",
    "from IPython.display import display, Math\n",
    "x=Symbol('x')\n",
    "t=Symbol('t')\n",
    "y=Symbol('y')\n",
    "f= Function('f')\n",
    "# define the varaible and function"
   ]
  },
  {
   "cell_type": "markdown",
   "metadata": {},
   "source": [
    "**Example 1:**  Suppose that $f:[x,y]\\rightarrow \\mathbb{R},$\n",
    "<br> \n",
    "$$\\left|f\\left(\\tfrac{x +y}{2}\\right)-\\frac{1}{y-x}\\int_x^y f(t)dt\\right|$$\n"
   ]
  },
  {
   "cell_type": "code",
   "execution_count": 2,
   "metadata": {},
   "outputs": [
    {
     "name": "stdout",
     "output_type": "stream",
     "text": [
      "The difference is equal to: \u001b[1;34m1/4\u001b[0m\n"
     ]
    }
   ],
   "source": [
    "ostrowski.general_Ostrowski_inequality(f((x+y)/2))"
   ]
  },
  {
   "cell_type": "code",
   "execution_count": null,
   "metadata": {},
   "outputs": [],
   "source": []
  },
  {
   "cell_type": "markdown",
   "metadata": {},
   "source": [
    "**Example 2:**  Suppose that $f:[0,1]\\rightarrow \\mathbb{R},$\n",
    "<br>\n",
    "$$\\left|\\tfrac{1}{4}f(x) + \\tfrac{3}{4}f\\left(\\tfrac{1}{3}x + \\tfrac{2}{3}y\\right) -\\frac{1}{y-x}\\int_x^y f(t)\\right|$$\n"
   ]
  },
  {
   "cell_type": "code",
   "execution_count": 3,
   "metadata": {},
   "outputs": [
    {
     "name": "stdout",
     "output_type": "stream",
     "text": [
      "The difference is equal to: \u001b[1;34m25/144\u001b[0m\n"
     ]
    }
   ],
   "source": [
    "ostrowski.general_Ostrowski_inequality((1/4)*f(x) + (3/4)*f((1/3)*x + (2/3)*y))"
   ]
  },
  {
   "cell_type": "code",
   "execution_count": null,
   "metadata": {},
   "outputs": [],
   "source": []
  },
  {
   "cell_type": "markdown",
   "metadata": {},
   "source": [
    "**Example 3:** Suppose that $f:[0,1]\\rightarrow \\mathbb{R},$\n",
    "<br>\n",
    "$$\\textstyle \\left| \\frac{1}{2}f\\left(\\frac{3+\\sqrt3}{6}x + \\frac{3-\\sqrt3}{6}y\\right) + \\frac{1}{2}f\\left(\\frac{3-\\sqrt3}{6}x + \\frac{3+\\sqrt3}{6}y\\right) - \\frac{1}{y-x}\\int_x^y f(t) dt\\right|$$\n"
   ]
  },
  {
   "cell_type": "code",
   "execution_count": 4,
   "metadata": {},
   "outputs": [
    {
     "name": "stdout",
     "output_type": "stream",
     "text": [
      "The difference is equal to: \u001b[1;34m101330/791693\u001b[0m\n"
     ]
    }
   ],
   "source": [
    "ostrowski.general_Ostrowski_inequality((1/2)*(f(((3+sqrt(3))/6)*x + ((3-sqrt(3))/6)*y)+ f(((3-sqrt(3))/6)*x \\\n",
    "                                                                                          + ((3+sqrt(3))/6)*y)))"
   ]
  },
  {
   "cell_type": "code",
   "execution_count": null,
   "metadata": {},
   "outputs": [],
   "source": []
  },
  {
   "cell_type": "markdown",
   "metadata": {},
   "source": [
    "**Example 4:** Suppose that $f:[0,1]\\rightarrow \\mathbb{R},$\n",
    "<br>\n",
    "$$\\textstyle \\left| \\frac{1}{9}f(x) + \\frac{16 +\\sqrt6}{36}f\\left(\\frac{4+\\sqrt6}{10}x + \\frac{6-\\sqrt6}{10}y\\right) + \\frac{16-\\sqrt6}{36}f\\left(\\frac{4-\\sqrt6}{10}x + \\frac{6+\\sqrt6}{10}y\\right) - \\frac{1}{y-x}\\int_x^y f(t) dt\\right|$$\n"
   ]
  },
  {
   "cell_type": "code",
   "execution_count": 5,
   "metadata": {},
   "outputs": [
    {
     "name": "stdout",
     "output_type": "stream",
     "text": [
      "The difference is equal to: \u001b[1;34m53213/490427\u001b[0m\n"
     ]
    }
   ],
   "source": [
    "ostrowski.general_Ostrowski_inequality((1/9)*f(x) + ((16+sqrt(6))/36)*(f(((4+sqrt(6))/10)*x + ((6-sqrt(6))/10)*y))\\\n",
    "                   + ((16-sqrt(6))/36)*(f(((4-sqrt(6))/10)*x + ((6+sqrt(6))/10)*y)))"
   ]
  },
  {
   "cell_type": "code",
   "execution_count": null,
   "metadata": {},
   "outputs": [],
   "source": []
  },
  {
   "cell_type": "markdown",
   "metadata": {},
   "source": [
    "**Example 5:** Suppose that $f:[0,1]\\rightarrow \\mathbb{R},$\n",
    "<br>\n",
    "$$\\textstyle \\left| \\frac{5}{18}f\\left(\\frac{5+\\sqrt15}{10}x + \\frac{5-\\sqrt15}{10}y\\right) +\\frac{4}{9}f\\left(\\frac{x+y}{2}\\right)+ \\frac{5}{18}f\\left(\\frac{5-\\sqrt15}{10}x + \\frac{5+\\sqrt15}{10}y\\right) - \\frac{1}{y-x}\\int_x^y f(t) dt \\right|$$\n"
   ]
  },
  {
   "cell_type": "code",
   "execution_count": 6,
   "metadata": {},
   "outputs": [
    {
     "name": "stdout",
     "output_type": "stream",
     "text": [
      "The difference is equal to: \u001b[1;34m1831/20496\u001b[0m\n"
     ]
    }
   ],
   "source": [
    "ostrowski.general_Ostrowski_inequality((5/18)*(f(((5+sqrt(15))/10)*x + ((5-sqrt(15))/10)*y))\\\n",
    "                   + (4/9)*(f((x+y)/2)) + (5/18)*(f(((5-sqrt(15))/10)*x + ((5+sqrt(15))/10)*y)))"
   ]
  },
  {
   "cell_type": "code",
   "execution_count": null,
   "metadata": {},
   "outputs": [],
   "source": []
  },
  {
   "cell_type": "markdown",
   "metadata": {},
   "source": [
    "**Example 6:** Suppose that $f:[0,1]\\rightarrow \\mathbb{R},$\n",
    "<br>\n",
    "$$\\textstyle \\left| \\frac{3}{14}f(x) + \\frac{3}{22}f\\left(\\frac{2}{3}x + \\frac{1}{3}y\\right) + \\frac{50}{77}f\\left(\\frac{3}{10}x + \\frac{7}{10}y\\right) - \\frac{1}{y-x}\\int_x^y f(t) dt\\right|$$\n"
   ]
  },
  {
   "cell_type": "code",
   "execution_count": 7,
   "metadata": {},
   "outputs": [
    {
     "name": "stdout",
     "output_type": "stream",
     "text": [
      "The difference is equal to: \u001b[1;34m108699/797977\u001b[0m\n"
     ]
    }
   ],
   "source": [
    "ostrowski.general_Ostrowski_inequality((3/14)*f(x) + (3/22)*f((2/3)*x + (1/3)*y) \n",
    "                 + (50/77)*f((3/10)*x + (7/10)*y))"
   ]
  },
  {
   "cell_type": "code",
   "execution_count": null,
   "metadata": {},
   "outputs": [],
   "source": []
  },
  {
   "cell_type": "markdown",
   "metadata": {},
   "source": [
    "**Example 7:** Suppose that $f:[0,1]\\rightarrow \\mathbb{R},$\n",
    "<br>\n",
    "$$\\textstyle \\left| \\frac{1}{5}f(x) + \\frac{3}{10}f(\\frac{7}{12}x + \\frac{5}{12}y) + \\frac{1}{2}f(\\frac{1}{4}x + \\frac{3}{4}y) - \\frac{1}{y-x}\\int_x^y f(t) dt \\right|$$"
   ]
  },
  {
   "cell_type": "code",
   "execution_count": 8,
   "metadata": {},
   "outputs": [
    {
     "name": "stdout",
     "output_type": "stream",
     "text": [
      "The difference is equal to: \u001b[1;34m197/1800\u001b[0m\n"
     ]
    }
   ],
   "source": [
    "ostrowski.general_Ostrowski_inequality((1/5)*f(x) + (3/10)*f((7/12)*x + (5/12)*y) \n",
    "                 + (1/2)*f((1/4)*x + (3/4)*y))"
   ]
  },
  {
   "cell_type": "code",
   "execution_count": null,
   "metadata": {},
   "outputs": [],
   "source": []
  },
  {
   "cell_type": "markdown",
   "metadata": {},
   "source": [
    "**Example 8:**  Suppose that $f:[0,1]\\rightarrow \\mathbb{R},$\n",
    "<br>\n",
    "$$\\textstyle \\left| \\frac{1}{9}f(x) + \\frac{1}{3}f(\\frac{3}{4}x + \\frac{1}{4}y) + \\frac{5}{9}f(\\frac{1}{4}x + \\frac{3}{4}y) \\leq \\frac{1}{y-x}\\int_x^y f(t) dt\\right|$$"
   ]
  },
  {
   "cell_type": "code",
   "execution_count": 9,
   "metadata": {},
   "outputs": [
    {
     "name": "stdout",
     "output_type": "stream",
     "text": [
      "The difference is equal to: \u001b[1;34m73/648\u001b[0m\n"
     ]
    }
   ],
   "source": [
    "ostrowski.general_Ostrowski_inequality((1/9)*f(x) + (1/3)*f((3/4)*x + (1/4)*y) \n",
    "                 + (5/9)*f((1/4)*x + (3/4)*y))"
   ]
  },
  {
   "cell_type": "code",
   "execution_count": null,
   "metadata": {},
   "outputs": [],
   "source": []
  },
  {
   "cell_type": "markdown",
   "metadata": {},
   "source": [
    "**Functional inequalities stemming from the known closed Quadrature rules**"
   ]
  },
  {
   "cell_type": "markdown",
   "metadata": {},
   "source": [
    "**Example 9:** The 2-point rule is called the trapezoidal rule. Let $f:[0,1]\\rightarrow \\mathbb{R},$\n",
    "<br>\n",
    "$$\\left| \\frac{1}{2}f(x)  + \\frac{1}{2}f(y) - \\frac{1}{y-x}\\int_x^y f(t)dt\\right|$$"
   ]
  },
  {
   "cell_type": "code",
   "execution_count": 10,
   "metadata": {},
   "outputs": [
    {
     "name": "stdout",
     "output_type": "stream",
     "text": [
      "The difference is equal to: \u001b[1;34m1/4\u001b[0m\n"
     ]
    }
   ],
   "source": [
    "ostrowski.general_Ostrowski_inequality((1/2)*f(x) + (1/2)*f(y))"
   ]
  },
  {
   "cell_type": "markdown",
   "metadata": {},
   "source": [
    "**Example 10:** The 3-point rule is known as Simpson's rule. Let $f:[0,1]\\rightarrow \\mathbb{R},$\n",
    "<br>\n",
    "$$\\left|\\frac{1}{6}f(x) + \\frac{2}{3}f\\left(\\frac{x+y}{2}\\right) + \\frac{1}{6}f(y)- \\frac{1}{y-x}\\int_x^y f(t)dt\\right|$$\n"
   ]
  },
  {
   "cell_type": "code",
   "execution_count": 11,
   "metadata": {},
   "outputs": [
    {
     "name": "stdout",
     "output_type": "stream",
     "text": [
      "The difference is equal to: \u001b[1;34m5/36\u001b[0m\n"
     ]
    }
   ],
   "source": [
    "ostrowski.general_Ostrowski_inequality((1/6)*f(x) + (2/3)*f((x+y)*(1/2)) + (1/6)*f(y))"
   ]
  },
  {
   "cell_type": "code",
   "execution_count": null,
   "metadata": {},
   "outputs": [],
   "source": []
  },
  {
   "cell_type": "markdown",
   "metadata": {},
   "source": [
    "**Example 11:** The 4-point closed rule is Simpson's 3/8 rule. Let $f:[0,1]\\rightarrow \\mathbb{R},$\n",
    "<br>\n",
    "$$\\left|\\tfrac{1}{8}\\left[f(x) + 3f\\left(\\tfrac{x+2y}{3}\\right) + 3f\\left(\\tfrac{2x+y}{3}\\right) +f(y)\\right]- \\frac{1}{y-x}\\int_x^y f(t)dt\\right|$$\n"
   ]
  },
  {
   "cell_type": "code",
   "execution_count": 12,
   "metadata": {},
   "outputs": [
    {
     "name": "stdout",
     "output_type": "stream",
     "text": [
      "The difference is equal to: \u001b[1;34m25/288\u001b[0m\n"
     ]
    }
   ],
   "source": [
    "ostrowski.general_Ostrowski_inequality((1/8)*(f(x) + 3*f((x+2*y)*(1/3))  + 3*f((2*x+y)*(1/3)) +f(y)))"
   ]
  },
  {
   "cell_type": "code",
   "execution_count": null,
   "metadata": {},
   "outputs": [],
   "source": []
  },
  {
   "cell_type": "markdown",
   "metadata": {},
   "source": [
    "**Example 12:** The 5-point closed rule is Boole's rule.Let $f:[0,1]\\rightarrow \\mathbb{R},$\n",
    "$$\\left|\\frac{1}{90}\\left[7f(x) +32f\\left(\\frac{3x+y}{4}\\right) + 12f\\left(\\frac{x+y}{2}\\right) +32f\\left(\\frac{x+3y}{4}\\right) +7f(y)\\right]- \\frac{1}{y-x}\\int_x^y f(t) dt\\right|$$\n"
   ]
  },
  {
   "cell_type": "code",
   "execution_count": 13,
   "metadata": {},
   "outputs": [
    {
     "name": "stdout",
     "output_type": "stream",
     "text": [
      "The difference is equal to: \u001b[1;34m239/3240\u001b[0m\n"
     ]
    }
   ],
   "source": [
    "ostrowski.general_Ostrowski_inequality((1/90)*(7*f(x) + 32*f((3/4)*x + (1/4)*y) \\\n",
    "                                               + 12*f((x+y)/2) + 32*f((1/4)*x + (3/4)*y) + 7*f(y)))"
   ]
  },
  {
   "cell_type": "code",
   "execution_count": null,
   "metadata": {},
   "outputs": [],
   "source": []
  },
  {
   "cell_type": "markdown",
   "metadata": {},
   "source": [
    "**Example 13:** The 6-point closed rule. Let $f:[0,1]\\rightarrow \\mathbb{R},$\n",
    "<br>\n",
    "$$\\left|\\frac{1}{288}\\left[19f(x) +75f\\left(\\frac{4x+y}{5}\\right) + 50f\\left(\\frac{3x+2y}{5}\\right) +50f\\left(\\frac{2x+3y}{5}\\right) +75f\\left(\\frac{x+4y}{5}\\right) +19f(y)\\right]-\\frac{1}{y-x}\\int_x^y f(t) dt\\right|$$\n"
   ]
  },
  {
   "cell_type": "code",
   "execution_count": 14,
   "metadata": {},
   "outputs": [
    {
     "name": "stdout",
     "output_type": "stream",
     "text": [
      "The difference is equal to: \u001b[1;34m11137/207360\u001b[0m\n"
     ]
    }
   ],
   "source": [
    "ostrowski.general_Ostrowski_inequality((1/288)*(19*f(x) + 75*f((4/5)*x + (1/5)*y) + 50*f((3/5)*x +(2/5)*y)\\\n",
    "                            + 50*f((2/5)*x + (3/5)*y) + 75*f((1/5)*x + (4/5)*y)+ 19*f(y)))"
   ]
  },
  {
   "cell_type": "code",
   "execution_count": null,
   "metadata": {},
   "outputs": [],
   "source": []
  },
  {
   "cell_type": "markdown",
   "metadata": {},
   "source": [
    "**Example 14:** The 7-point closed rule. Let $f:[0,1]\\rightarrow \\mathbb{R},$\n",
    "<br>\n",
    "$\\left|\\frac{1}{840}\\left[41f(x) +216f\\left(\\frac{5x+y}{6}\\right) + 27f\\left(\\frac{4x+2y}{6}\\right) +272f\\left(\\frac{3x+3y}{6}\\right)  +27f\\left(\\frac{2x+4y}{6}\\right) +216f\\left(\\frac{x+5y}{6}\\right)+41f(y)\\right]- \\frac{1}{y-x}\\int_x^y f(t)dt\\right|$"
   ]
  },
  {
   "cell_type": "code",
   "execution_count": 15,
   "metadata": {},
   "outputs": [
    {
     "name": "stdout",
     "output_type": "stream",
     "text": [
      "The difference is equal to: \u001b[1;34m1579/25200\u001b[0m\n"
     ]
    }
   ],
   "source": [
    "ostrowski.general_Ostrowski_inequality((1/840)*(41*f(x) + 216*f((5/6)*x +(1/6)*y)\\\n",
    "                                                + 27*f((4/6)*x + (2/6)*y) + 272*f((3/6)*x + (3/6)*y)\\\n",
    "                            + 27*f((2/6)*x + (4/6)*y) + 216*f((1/6)*x + (5/6)*y) + 41*f(y)))"
   ]
  },
  {
   "cell_type": "code",
   "execution_count": null,
   "metadata": {},
   "outputs": [],
   "source": []
  },
  {
   "cell_type": "markdown",
   "metadata": {},
   "source": [
    "**Example 15:** The 8-point closed rule. Let $f:[0,1]\\rightarrow \\mathbb{R},$\n",
    "<br>\n",
    "$\\left|\\frac{1}{17280}\\left[751f(x) +3577f\\left(\\frac{6x+y}{7}\\right) + 1323f\\left(\\frac{5x+2y}{7}\\right) +2989f\\left(\\frac{4x+3y}{7}\\right)  +2989f\\left(\\frac{3x+4y}{7}\\right) +1323f\\left(\\frac{2x+5y}{7}\\right)+3577f\\left(\\frac{x+6y}{7}\\right)+751f(y)\\right]\\\\- \\frac{1}{y-x}\\int_x^y f(t)dt\\right|$"
   ]
  },
  {
   "cell_type": "code",
   "execution_count": 16,
   "metadata": {},
   "outputs": [
    {
     "name": "stdout",
     "output_type": "stream",
     "text": [
      "The difference is equal to: \u001b[1;34m41491/994740\u001b[0m\n"
     ]
    }
   ],
   "source": [
    "ostrowski.general_Ostrowski_inequality((1/17280)*(751*f(x) + 3577*f((6/7)*x +(1/7)*y) \\\n",
    "                                                  + 1323*f((5/7)*x +(2/7)*y) + 2989*f((4/7)*x + (3/7)*y)\\\n",
    "                              +2989*f((3/7)*x + (4/7)*y) + 1323*f((2/7)*x +(5/7)*y) +\\\n",
    "                              3577*f((1/7)*x + (6/7)*y) + 751*f(y)))"
   ]
  },
  {
   "cell_type": "code",
   "execution_count": null,
   "metadata": {},
   "outputs": [],
   "source": []
  },
  {
   "cell_type": "markdown",
   "metadata": {},
   "source": [
    "**Example 16:** The 9-point closed rule. Let $f:[0,1]\\rightarrow \\mathbb{R},$ \n",
    "<br>\n",
    "$\\left|\\frac{1}{28350}\\left[989f(x) +5888f\\left(\\frac{7x+y}{8}\\right) - 928f\\left(\\frac{6x+2y}{8}\\right) +10496f\\left(\\frac{5x+3y}{8}\\right) -4540f\\left(\\frac{4x+4y}{8}\\right) +10496f\\left(\\frac{3x+5y}{8}\\right)-928f\\left(\\frac{2x+6y}{8}\\right)+5888f\\left(\\frac{x+7y}{8}\\right)+989f(y)\\right]- \\frac{1}{y-x}\\int_x^y f(t)dt\\right|$"
   ]
  },
  {
   "cell_type": "code",
   "execution_count": 17,
   "metadata": {},
   "outputs": [
    {
     "name": "stdout",
     "output_type": "stream",
     "text": [
      "The difference is equal to: \u001b[1;34m67424/797691\u001b[0m\n"
     ]
    }
   ],
   "source": [
    "ostrowski.general_Ostrowski_inequality((1/28350)*(989*f(x) + 5888*f((7/8)*x + (1/8)*y) -928*f((6/8)*x + (2/8)*y) +\\\n",
    "                              10496*f((5/8)*x + (3/8)*y) -4540*f((4/8)*x +(4/8)*y)\\\n",
    "                              + 10496*f((3/8)*x + (5/8)*y) -928*f((2/8)*x + (6/8)*y) +\\\n",
    "                              5888*f((1/8)*x+ (7/8)*y) + 989*f(y)))"
   ]
  },
  {
   "cell_type": "code",
   "execution_count": null,
   "metadata": {},
   "outputs": [],
   "source": []
  },
  {
   "cell_type": "markdown",
   "metadata": {},
   "source": [
    "**Example 17:** The 10-point closed rule. Let $f:[0,1]\\rightarrow \\mathbb{R},$ \n",
    "<br>\n",
    "$\\left|\\frac{1}{89600}\\left[2857(f(x)+f(y)) + 15741\\left(f\\left(\\frac{8x+y}{9}\\right) +f\\left(\\frac{x+8y}{9}\\right)\\right) +1080\\left(f\\left(\\frac{7x+2y}{9}\\right) +f\\left(\\frac{2x+7y}{9}\\right)\\right) +19344\\left(f\\left(\\frac{6x+3y}{9}\\right)+f\\left(\\frac{3x+6y}{9}\\right)\\right)+5778\\left(f\\left(\\frac{5x+4y}{9}\\right)+f\\left(\\frac{4x+5y}{9}\\right)\\right)\\right]-\\frac{1}{y-x}\\int_x^y f(t)dt\\right|$"
   ]
  },
  {
   "cell_type": "code",
   "execution_count": 18,
   "metadata": {},
   "outputs": [
    {
     "name": "stdout",
     "output_type": "stream",
     "text": [
      "The difference is equal to: \u001b[1;34m24130/556727\u001b[0m\n"
     ]
    }
   ],
   "source": [
    "ostrowski.general_Ostrowski_inequality((1/89600)*(2857*(f(x)+f(y)) + 15741*(f((8/9)*x +(1/9)*y) \\\n",
    "                                                                            + f((1/9)*x +(8/9)*y))+ \\\n",
    "                              1080*(f((7/9)*x +(2/9)*y)+ f((2/9)*x+(7/9)*y))+\\\n",
    "                              19344*(f((6/9)*x + (3/9)*y) + f((3/9)*x + (6/9)*y))\\\n",
    "                              + 5778*(f((5/9)*x + (4/9)*y) + f((4/9)*x + (5/9)*y))))"
   ]
  },
  {
   "cell_type": "code",
   "execution_count": null,
   "metadata": {},
   "outputs": [],
   "source": []
  },
  {
   "cell_type": "markdown",
   "metadata": {},
   "source": [
    "**Example 18:** The 11-point closed rule. Let $f:[0,1]\\rightarrow \\mathbb{R},$\n",
    "<br>\n",
    "$\\left|\\frac{1}{598752}\\left[16067(f(x)+f(y)) + 106300\\left(f\\left(\\frac{9x+y}{10}\\right) +f\\left(\\frac{x+9y}{10}\\right)\\right) -48525\\left(f\\left(\\frac{8x+2y}{10}\\right) +f\\left(\\frac{2x+8y}{10}\\right)\\right) +272400\\left(f\\left(\\frac{7x+3y}{10}\\right)+f\\left(\\frac{3x+7y}{10}\\right)\\right)-260550\\left(f\\left(\\frac{6x+4y}{10}\\right)+f\\left(\\frac{4x+6y}{10}\\right)\\right)+427368f\\left(\\frac{5x+5y}{10}\\right)\\right]-\\frac{1}{y-x}\\int_x^y f(t)dt\\right|$"
   ]
  },
  {
   "cell_type": "code",
   "execution_count": 19,
   "metadata": {},
   "outputs": [
    {
     "name": "stdout",
     "output_type": "stream",
     "text": [
      "The difference is equal to: \u001b[1;34m3043/20380\u001b[0m\n"
     ]
    }
   ],
   "source": [
    "ostrowski.general_Ostrowski_inequality((1/598752)*(16067*(f(x)+f(y)) + 106300*(f((9/10)* x + (1/10)*y) + f((1/10)*x +(9/10)*y))-\\\n",
    "                               48525*(f((8/10)* x + (2/10)*y) + f((2/10)*x +(8/10)*y)) + \\\n",
    "                               272400*(f((7/10)* x + (3/10)*y) + f((3/10)*x +(7/10)*y))\\\n",
    "                               -260550*(f((6/10)* x + (4/10)*y) + f((4/10)*x +(6/10)*y))\\\n",
    "                               + 427368*f((5/10)*x + (5/10)*y)))"
   ]
  },
  {
   "cell_type": "code",
   "execution_count": null,
   "metadata": {},
   "outputs": [],
   "source": []
  },
  {
   "cell_type": "markdown",
   "metadata": {},
   "source": [
    "**Functional inequalities stemming from the known open Newton-Cotes rules**"
   ]
  },
  {
   "cell_type": "markdown",
   "metadata": {},
   "source": [
    "**Example 19:** The 2-point rule. Let $f:[0,1]\\rightarrow \\mathbb{R},$\n",
    "\n",
    "<br>\n",
    "$$\\left|\\frac{1}{2}f\\left(\\frac{2}{3}x + \\frac{1}{3}y\\right) +\\frac{1}{2}f\\left(\\frac{1}{3}x +\\frac{2}{3}y\\right)- \\frac{1}{y-x}\\int_x^y f(t)dt\\right|$$\n"
   ]
  },
  {
   "cell_type": "code",
   "execution_count": 20,
   "metadata": {},
   "outputs": [
    {
     "name": "stdout",
     "output_type": "stream",
     "text": [
      "The difference is equal to: \u001b[1;34m5/36\u001b[0m\n"
     ]
    }
   ],
   "source": [
    "ostrowski.general_Ostrowski_inequality((1/2)*f((2/3)*x + (1/3)*y)+  (1/2)*f((1/3)*x +(2/3)*y))"
   ]
  },
  {
   "cell_type": "code",
   "execution_count": null,
   "metadata": {},
   "outputs": [],
   "source": []
  },
  {
   "cell_type": "markdown",
   "metadata": {},
   "source": [
    "**Example 20:** The 3-point rule. Let $f:[0,1]\\rightarrow \\mathbb{R},$\n",
    "<br>\n",
    "$$\\left|\\frac{1}{3}\\left[2f\\left(\\frac{3}{4}x + \\frac{1}{4}y\\right)-f\\left(\\frac{2}{4}x +\\frac{2}{4}y\\right) +2f\\left(\\frac{1}{4}x +\\frac{3}{4}y\\right)\\right]- \\frac{1}{y-x}\\int_x^y f(t)dt\\right|$$\n"
   ]
  },
  {
   "cell_type": "code",
   "execution_count": 21,
   "metadata": {},
   "outputs": [
    {
     "name": "stdout",
     "output_type": "stream",
     "text": [
      "The difference is equal to: \u001b[1;34m5/24\u001b[0m\n"
     ]
    }
   ],
   "source": [
    "ostrowski.general_Ostrowski_inequality((1/3)*(2*f((3/4)*x+ (1/4)*y) - f((2/4)*x + (2/4)*y) + 2*f((1/4)*x + (3/4)*y)))"
   ]
  },
  {
   "cell_type": "code",
   "execution_count": null,
   "metadata": {},
   "outputs": [],
   "source": []
  },
  {
   "cell_type": "markdown",
   "metadata": {},
   "source": [
    "**Example 21:** The 4-point rule. Let $f:[0,1]\\rightarrow \\mathbb{R},$\n",
    "<br>\n",
    "$$\\left|\\frac{1}{24}\\left[11f\\left(\\frac{4}{5}x + \\frac{1}{5}y\\right)+f\\left(\\frac{3}{5}x +\\frac{2}{5}y\\right) +f\\left(\\frac{2}{5}x +\\frac{3}{5}y\\right) +11f\\left(\\frac{1}{5}x +\\frac{4}{5}y\\right)\\right]-\\frac{1}{y-x}\\int_x^y f(t)dt\\right|$$\n"
   ]
  },
  {
   "cell_type": "code",
   "execution_count": 22,
   "metadata": {},
   "outputs": [
    {
     "name": "stdout",
     "output_type": "stream",
     "text": [
      "The difference is equal to: \u001b[1;34m17/150\u001b[0m\n"
     ]
    }
   ],
   "source": [
    "ostrowski.general_Ostrowski_inequality((1/24)*(11*f((4/5)*x +(1/5)*y) + f((3/5)*x \\\n",
    "                                                      + (2/5)*y) + f((2/5)*x + (3/5)*y) + 11*f((1/5)*x + (4/5)*y)))"
   ]
  },
  {
   "cell_type": "code",
   "execution_count": null,
   "metadata": {},
   "outputs": [],
   "source": []
  },
  {
   "cell_type": "markdown",
   "metadata": {},
   "source": [
    "**Example 22:** The 5-point rule. Let $f:[0,1]\\rightarrow \\mathbb{R},$\n",
    "<br>\n",
    "$$\\left|\\frac{1}{20}\\left[11f\\left(\\frac{5}{6}x + \\frac{1}{6}y\\right)-14f\\left(\\frac{4}{6}x +\\frac{2}{6}y\\right) +26f\\left(\\frac{3}{6}x +\\frac{3}{6}y\\right) -14f\\left(\\frac{2}{6}x +\\frac{4}{6}y\\right)+11f\\left(\\frac{1}{6}x +\\frac{5}{6}y\\right)\\right]-\\frac{1}{y-x}\\int_x^y f(t)dt\\right|$$\n"
   ]
  },
  {
   "cell_type": "code",
   "execution_count": 23,
   "metadata": {},
   "outputs": [
    {
     "name": "stdout",
     "output_type": "stream",
     "text": [
      "The difference is equal to: \u001b[1;34m19/60\u001b[0m\n"
     ]
    }
   ],
   "source": [
    "ostrowski.general_Ostrowski_inequality((1/20)*(11*f((5/6)*x + (1/6)*y) -14*f((4/6)*x + (2/6)*y) \\\n",
    "                                               + 26*f((3/6)*x + (3/6)*y) -\\\n",
    "                           14*f((2/6)*x + (4/6)*y) + 11*f((1/6)*x + (5/6)*y)))"
   ]
  },
  {
   "cell_type": "code",
   "execution_count": null,
   "metadata": {},
   "outputs": [],
   "source": []
  },
  {
   "cell_type": "markdown",
   "metadata": {},
   "source": [
    "**Example 23:** The 6-point rule. Let $f:[0,1]\\rightarrow \\mathbb{R},$\n",
    "<br> \n",
    "<br>\n",
    "$\\left|\\frac{1}{1440}\\left[611f\\left(\\frac{6}{7}x + \\frac{1}{7}y\\right)-453f\\left(\\frac{5}{7}x +\\frac{2}{7}y\\right) +562f\\left(\\frac{4}{7}x +\\frac{3}{7}y\\right) +562f\\left(\\frac{3}{7}x +\\frac{4}{7}y\\right)-453f\\left(\\frac{2}{7}x +\\frac{5}{7}y\\right)+611f\\left(\\frac{1}{7}x + \\frac{6}{7}y\\right)\\right] - \\frac{1}{y-x}\\int_x^y f(t)dt\\right|$\n"
   ]
  },
  {
   "cell_type": "code",
   "execution_count": 24,
   "metadata": {},
   "outputs": [
    {
     "name": "stdout",
     "output_type": "stream",
     "text": [
      "The difference is equal to: \u001b[1;34m1837/11760\u001b[0m\n"
     ]
    }
   ],
   "source": [
    "ostrowski.general_Ostrowski_inequality((1/1440)*(611*f((6/7)*x + (1/7)*y) -453*f((5/7)*x +(2/7)*y)\\\n",
    "                                                 + 562*f((4/7)*x + (3/7)*y) + \\\n",
    "                             562*f((3/7)*x+(4/7)*y)-\\\n",
    "                             453*f((2/7)*x + (5/7)*y) + 611*f((1/7)*x +(6/7)*y)))"
   ]
  },
  {
   "cell_type": "code",
   "execution_count": null,
   "metadata": {},
   "outputs": [],
   "source": []
  },
  {
   "cell_type": "markdown",
   "metadata": {},
   "source": [
    "**Example 24:** The 7-point rule. Let $f:[0,1]\\rightarrow \\mathbb{R},$\n",
    "<br>\n",
    "$\\left|\\frac{1}{945}\\left[460f\\left(\\frac{7}{8}x + \\frac{1}{8}y\\right)-954f\\left(\\frac{6}{8}x +\\frac{2}{8}y\\right) +2196f\\left(\\frac{5}{8}x +\\frac{3}{8}y\\right)-2459f\\left(\\frac{4}{8}x +\\frac{4}{8}y\\right)+2196f\\left(\\frac{3}{8}x +\\frac{5}{8}y\\right)-954f\\left(\\frac{2}{8}x + \\frac{6}{8}y\\right)+460f\\left(\\frac{1}{8}x + \\frac{7}{8}y\\right)\\right] - \\frac{1}{y-x}\\int_x^y f(t)dt\\right|$"
   ]
  },
  {
   "cell_type": "code",
   "execution_count": 25,
   "metadata": {},
   "outputs": [
    {
     "name": "stdout",
     "output_type": "stream",
     "text": [
      "The difference is equal to: \u001b[1;34m9679/15120\u001b[0m\n"
     ]
    }
   ],
   "source": [
    "ostrowski.general_Ostrowski_inequality((1/945)*(460*f((7/8)*x + (1/8)*y) -954*f((6/8)*x +(2/8)*y) \\\n",
    "                                                + 2196*f((5/8)*x + (3/8)*y) \\\n",
    "                            - 2459*f((4/8)*x + (4/8)*y)\\\n",
    "                            +2196*f((3/8)*x + (5/8)*y) -954*f((2/8)*x + (6/8)*y) + 460*f((1/8)*x + (7/8)*y)))"
   ]
  },
  {
   "cell_type": "code",
   "execution_count": null,
   "metadata": {},
   "outputs": [],
   "source": []
  },
  {
   "cell_type": "markdown",
   "metadata": {},
   "source": [
    "**Example 25:** Weddle's rule. Let $f:[0,1]\\rightarrow \\mathbb{R},$\n",
    "<br>\n",
    "$\\left|\\frac{1}{20}\\left[f(x)+ 5f\\left(\\frac{5}{6}x + \\frac{1}{6}y\\right)+f\\left(\\frac{4}{6}x +\\frac{2}{6}y\\right) +6f\\left(\\frac{3}{6}x +\\frac{3}{6}y\\right)+f\\left(\\frac{2}{6}x +\\frac{4}{6}y\\right)+5f\\left(\\frac{1}{6}x +\\frac{5}{6}y\\right)+ f(y)\\right] - \\frac{1}{y-x}\\int_x^y f(t)dt\\right|$"
   ]
  },
  {
   "cell_type": "code",
   "execution_count": 26,
   "metadata": {},
   "outputs": [
    {
     "name": "stdout",
     "output_type": "stream",
     "text": [
      "The difference is equal to: \u001b[1;34m13/225\u001b[0m\n"
     ]
    }
   ],
   "source": [
    "ostrowski.general_Ostrowski_inequality((1/20)*(f(x) + 5*f((5/6)*x + (1/6)*y) + f((4/6)*x + (2/6)*y) +\\\n",
    "                           6*f((3/6)*x + (3/6)*y) + f((2/6)*x + (4/6)*y)+ 5*f((1/6)*x+(5/6)*y) + f(y)))"
   ]
  },
  {
   "cell_type": "code",
   "execution_count": null,
   "metadata": {},
   "outputs": [],
   "source": []
  },
  {
   "cell_type": "markdown",
   "metadata": {},
   "source": [
    "**Example 20:**  Hardy's rule. Let $f:[0,1]\\rightarrow \\mathbb{R},$\n",
    "<br>\n",
    "$\\left|\\frac{1}{600}\\left[28f(x)+ 162f\\left(\\frac{5}{6}x + \\frac{1}{6}y\\right)+220f\\left(\\frac{3}{6}x +\\frac{3}{6}y\\right) +162f\\left(\\frac{1}{6}x +\\frac{5}{6}y\\right)+ 28f(y)\\right] - \\frac{1}{y-x}\\int_x^y f(t)dt\\right|$"
   ]
  },
  {
   "cell_type": "code",
   "execution_count": 27,
   "metadata": {},
   "outputs": [
    {
     "name": "stdout",
     "output_type": "stream",
     "text": [
      "The difference is equal to: \u001b[1;34m3271/45000\u001b[0m\n"
     ]
    }
   ],
   "source": [
    "ostrowski.general_Ostrowski_inequality((1/600)*(28*f(x) + 162*f((5/6)*x + (1/6)*y) + 220*f((3/6)*x + (3/6)*y) \\\n",
    "                            + 162*f((1/6)*x + (5/6)*y) + 28*f(y)))"
   ]
  },
  {
   "cell_type": "code",
   "execution_count": null,
   "metadata": {},
   "outputs": [],
   "source": []
  },
  {
   "cell_type": "markdown",
   "metadata": {},
   "source": [
    "**Example 27:**  A 3-point extended rule for odd n. Applying Simpson's 3/8 rule and Simpson's rule (3-point) twice, and adding gives.Let $f:[0,1]\\rightarrow \\mathbb{R},$\n",
    "<br>\n",
    "$\\left|\\frac{1}{10}\\left[\\frac{3}{8}f(x)+ \\frac{9}{8}f\\left(\\frac{9}{10}x + \\frac{1}{10}y\\right)+\\frac{9}{8}f\\left(\\frac{8}{10}x + \\frac{2}{10}y\\right)+ \\frac{17}{24}f\\left(\\frac{7}{10}x + \\frac{3}{10}y\\right)+\\frac{4}{3}f\\left(\\frac{6}{10}x + \\frac{4}{10}y\\right)+\\frac{2}{3}f\\left(\\frac{5}{10}x + \\frac{5}{10}y\\right)+\\frac{4}{3}f\\left(\\frac{4}{10}x + \\frac{6}{10}y\\right)+\\frac{17}{24}f\\left(\\frac{3}{10}x + \\frac{7}{10}y\\right)+\\frac{9}{8}f\\left(\\frac{2}{10}x + \\frac{8}{10}y\\right)+\\frac{9}{8}f\\left(\\frac{1}{10}x + \\frac{9}{10}y\\right)+\\frac{3}{8}f(y)\\right] - \\frac{1}{y-x}\\int_x^y f(t)dt\\right|$"
   ]
  },
  {
   "cell_type": "code",
   "execution_count": 28,
   "metadata": {},
   "outputs": [
    {
     "name": "stdout",
     "output_type": "stream",
     "text": [
      "The difference is equal to: \u001b[1;34m77/2880\u001b[0m\n"
     ]
    }
   ],
   "source": [
    "ostrowski.general_Ostrowski_inequality((1/10)*((3/8)*f(x) + (9/8)*f((9/10)*x + (1/10)*y) + (9/8)*f((8/10)*x+(2/10)*y)\n",
    "                           + (17/24)*f((7/10)*x+(3/10)*y)+(4/3)*f((6/10)*x+(4/10)*y)\\\n",
    "                           +(2/3)*f((5/10)*x+(5/10)*y)+ (4/3)*f((4/10)*x + (6/10)*y)+(17/24)*f((3/10)*x+(7/10)*y)+\\\n",
    "                           (9/8)*f((2/10)*x+(8/10)*y) + (9/8)*f((1/10)*x+(9/10)*y) +(3/8)*f(y)))"
   ]
  },
  {
   "cell_type": "code",
   "execution_count": null,
   "metadata": {},
   "outputs": [],
   "source": []
  },
  {
   "cell_type": "markdown",
   "metadata": {},
   "source": [
    "**Higher-order convex function of Hermite-Hadamard inequalities with negative results**"
   ]
  },
  {
   "cell_type": "markdown",
   "metadata": {},
   "source": [
    "**Example 28:** Let $f:[0,1]\\rightarrow \\mathbb{R},$\n",
    "<br>\n",
    "$$\\left|\\left[\\frac{1}{18}f(x) + \\frac{21}{34}f\\left(\\frac{2x+y}{3}\\right) + \\frac{50}{153}f\\left(\\frac{x+9y}{10}\\right)\\right]-\\frac{1}{y-x}\\int_x^y f(t)dt\\right|$$"
   ]
  },
  {
   "cell_type": "code",
   "execution_count": 29,
   "metadata": {},
   "outputs": [
    {
     "name": "stdout",
     "output_type": "stream",
     "text": [
      "The difference is equal to: \u001b[1;34m122805/954956\u001b[0m\n"
     ]
    }
   ],
   "source": [
    "ostrowski.general_Ostrowski_inequality((1/18)*f(x) + (21/34)*f((2*x+y)/3) + (50/153)*f((x+9*y)/10))"
   ]
  },
  {
   "cell_type": "code",
   "execution_count": null,
   "metadata": {},
   "outputs": [],
   "source": []
  },
  {
   "cell_type": "markdown",
   "metadata": {},
   "source": [
    "**Example 29:** Let $f:[0,1]\\rightarrow \\mathbb{R},$\n",
    "<br>\n",
    "$$\\left|\\left[\\frac{1}{15}f(x) + \\frac{24}{65}f\\left(\\frac{19x+5y}{24}\\right) + \\frac{22}{39}f\\left(\\frac{x+3y}{4}\\right)\\right]-\\frac{1}{y-x}\\int_x^y f(t)dt\\right|$$"
   ]
  },
  {
   "cell_type": "code",
   "execution_count": 30,
   "metadata": {},
   "outputs": [
    {
     "name": "stdout",
     "output_type": "stream",
     "text": [
      "The difference is equal to: \u001b[1;34m82444/694383\u001b[0m\n"
     ]
    }
   ],
   "source": [
    "ostrowski.general_Ostrowski_inequality((1/15)*f(x) + (24/65)*f((19*x+5*y)/24) + (22/39)*f((x+3*y)/4))"
   ]
  },
  {
   "cell_type": "code",
   "execution_count": null,
   "metadata": {},
   "outputs": [],
   "source": []
  },
  {
   "cell_type": "markdown",
   "metadata": {},
   "source": [
    "**Example 30:** Let $f:[0,1]\\rightarrow \\mathbb{R},$\n",
    "<br>\n",
    "$$\\left|\\left[\\frac{1}{30}f(x) + \\frac{243}{610}f\\left(\\frac{22x+5y}{27}\\right) + \\frac{104}{183}f\\left(\\frac{x+3y}{4}\\right)\\right]- \\frac{1}{y-x}\\int_x^y f(t)dt\\right|$$"
   ]
  },
  {
   "cell_type": "code",
   "execution_count": 31,
   "metadata": {},
   "outputs": [
    {
     "name": "stdout",
     "output_type": "stream",
     "text": [
      "The difference is equal to: \u001b[1;34m10618/85369\u001b[0m\n"
     ]
    }
   ],
   "source": [
    "ostrowski.general_Ostrowski_inequality((1/30)*f(x) + (243/610)*f((22/27)*x + (5/27)*y) \\\n",
    "                                       + (104/183)*f((1/4)*x + (3/4)*y))"
   ]
  },
  {
   "cell_type": "code",
   "execution_count": null,
   "metadata": {},
   "outputs": [],
   "source": []
  },
  {
   "cell_type": "markdown",
   "metadata": {},
   "source": [
    "**Example 31:** Let $f:[0,1]\\rightarrow \\mathbb{R},$\n",
    "<br>\n",
    "$$\\left|\\left[\\frac{1}{45}f(x) + \\frac{49}{120}f\\left(\\frac{23x+5y}{28}\\right) + \\frac{41}{72}f\\left(\\frac{x+3y}{4}\\right)\\right]- \\frac{1}{y-x}\\int_x^y f(t)dt\\right|$$"
   ]
  },
  {
   "cell_type": "code",
   "execution_count": 32,
   "metadata": {},
   "outputs": [
    {
     "name": "stdout",
     "output_type": "stream",
     "text": [
      "The difference is equal to: \u001b[1;34m95409/754282\u001b[0m\n"
     ]
    }
   ],
   "source": [
    "ostrowski.general_Ostrowski_inequality((1/45)*f(x) + (49/120)*f((23/28)*x + (5/28)*y) + (41/72)*f((1/4)*x + (3/4)*y))"
   ]
  },
  {
   "cell_type": "code",
   "execution_count": null,
   "metadata": {},
   "outputs": [],
   "source": []
  },
  {
   "cell_type": "markdown",
   "metadata": {},
   "source": [
    "**Example 32:** Let $f:[0,1]\\rightarrow \\mathbb{R},$\n",
    "<br>\n",
    "$$\\left|\\left[\\frac{1}{90}f(x) + \\frac{841}{2010}f\\left(\\frac{24x+5y}{29}\\right) + \\frac{344}{603}f\\left(\\frac{x+3y}{4}\\right)\\right]-\\frac{1}{y-x}\\int_x^y f(t)dt\\right|$$"
   ]
  },
  {
   "cell_type": "code",
   "execution_count": 33,
   "metadata": {},
   "outputs": [
    {
     "name": "stdout",
     "output_type": "stream",
     "text": [
      "The difference is equal to: \u001b[1;34m24357/189215\u001b[0m\n"
     ]
    }
   ],
   "source": [
    "ostrowski.general_Ostrowski_inequality((1/90)*f(x) + (841/2010)*f((24/29)*x + (5/29)*y)\\\n",
    "                                       + (344/603)*f((1/4)*x + (3/4)*y))"
   ]
  },
  {
   "cell_type": "code",
   "execution_count": null,
   "metadata": {},
   "outputs": [],
   "source": []
  },
  {
   "cell_type": "markdown",
   "metadata": {},
   "source": [
    "**Example 33:** Let $f:[0,1]\\rightarrow \\mathbb{R},$\n",
    "<br>\n",
    "$$\\left|\\left[\\frac{7}{108}f(x) + \\frac{841}{2268}f\\left(\\frac{23x+6y}{29}\\right) + \\frac{320}{567}f\\left(\\frac{x+3y}{4}\\right)\\right]-\\frac{1}{y-x}\\int_x^y f(t)dt\\right|$$"
   ]
  },
  {
   "cell_type": "code",
   "execution_count": 34,
   "metadata": {},
   "outputs": [
    {
     "name": "stdout",
     "output_type": "stream",
     "text": [
      "The difference is equal to: \u001b[1;34m57827/485867\u001b[0m\n"
     ]
    }
   ],
   "source": [
    "ostrowski.general_Ostrowski_inequality((7/108)*f(x) + (841/2268)*f((23/29)*x + (6/29)*y)\\\n",
    "                                       + (320/567)*f((1/4)*x + (3/4)*y))"
   ]
  },
  {
   "cell_type": "code",
   "execution_count": null,
   "metadata": {},
   "outputs": [],
   "source": []
  },
  {
   "cell_type": "markdown",
   "metadata": {},
   "source": [
    "**Example 34:** Let $f:[0,1]\\rightarrow \\mathbb{R},$\n",
    "<br>\n",
    "$$\\left|\\left[\\frac{5}{108}f(x) + \\frac{961}{2484}f\\left(\\frac{25x+6y}{31}\\right) + \\frac{352}{621}f\\left(\\frac{x+3y}{4}\\right)\\right]- \\frac{1}{y-x}\\int_x^y f(t)dt\\right|$$"
   ]
  },
  {
   "cell_type": "code",
   "execution_count": 35,
   "metadata": {},
   "outputs": [
    {
     "name": "stdout",
     "output_type": "stream",
     "text": [
      "The difference is equal to: \u001b[1;34m81816/670277\u001b[0m\n"
     ]
    }
   ],
   "source": [
    "ostrowski.general_Ostrowski_inequality((5/108)*f(x) + (961/2484)*f((25/31)*x + (6/31)*y) \\\n",
    "                                       + (352/621)*f((1/4)*x + (3/4)*y))"
   ]
  },
  {
   "cell_type": "code",
   "execution_count": null,
   "metadata": {},
   "outputs": [],
   "source": []
  },
  {
   "cell_type": "markdown",
   "metadata": {},
   "source": [
    "**Example 35:** Let $f:[0,1]\\rightarrow \\mathbb{R},$\n",
    "<br>\n",
    "$$\\left|\\left[\\frac{13}{216}f(x) + \\frac{3481}{9288}f\\left(\\frac{47x+12y}{59}\\right) + \\frac{656}{1161}f\\left(\\frac{x+3y}{4}\\right)\\right]-\\frac{1}{y-x}\\int_x^y f(t)dt\\right|$$"
   ]
  },
  {
   "cell_type": "code",
   "execution_count": 36,
   "metadata": {},
   "outputs": [
    {
     "name": "stdout",
     "output_type": "stream",
     "text": [
      "The difference is equal to: \u001b[1;34m107375/896648\u001b[0m\n"
     ]
    }
   ],
   "source": [
    "ostrowski.general_Ostrowski_inequality((13/216)*f(x) + (3481/9288)*f((47/59)*x + (12/59)*y) \\\n",
    "                                       + (656/1161)*f((1/4)*x + (3/4)*y))"
   ]
  },
  {
   "cell_type": "code",
   "execution_count": null,
   "metadata": {},
   "outputs": [],
   "source": []
  },
  {
   "cell_type": "markdown",
   "metadata": {},
   "source": [
    "**Example 36:** Let $f:[0,1]\\rightarrow \\mathbb{R},$\n",
    "<br>\n",
    "$$\\left|\\left[\\frac{29}{414}f(x) + \\frac{11881}{32430}f\\left(\\frac{86x+23y}{109}\\right) + \\frac{1192}{2115}f\\left(\\frac{x+3y}{4}\\right)\\right]- \\frac{1}{y-x}\\int_x^y f(t)dt\\right|$$"
   ]
  },
  {
   "cell_type": "code",
   "execution_count": 37,
   "metadata": {},
   "outputs": [
    {
     "name": "stdout",
     "output_type": "stream",
     "text": [
      "The difference is equal to: \u001b[1;34m110635/935913\u001b[0m\n"
     ]
    }
   ],
   "source": [
    "ostrowski.general_Ostrowski_inequality((29/414)*f(x) + (11881/32430)*f((86/109)*x + (23/109)*y) \\\n",
    "                                       + (1192/2115)*f((1/4)*x + (3/4)*y))"
   ]
  },
  {
   "cell_type": "code",
   "execution_count": null,
   "metadata": {},
   "outputs": [],
   "source": []
  },
  {
   "cell_type": "markdown",
   "metadata": {},
   "source": [
    "**Example 37:** Let $f:[0,1]\\rightarrow \\mathbb{R},$\n",
    "<br>\n",
    "$$\\left|\\left[\\frac{3}{46}f(x) + \\frac{4107}{11086}f\\left(\\frac{88x+23y}{111}\\right) + \\frac{136}{241}f\\left(\\frac{x+3y}{4}\\right)\\right]- \\frac{1}{y-x}\\int_x^y f(t)dt\\right|$$"
   ]
  },
  {
   "cell_type": "code",
   "execution_count": 38,
   "metadata": {},
   "outputs": [
    {
     "name": "stdout",
     "output_type": "stream",
     "text": [
      "The difference is equal to: \u001b[1;34m15699/131974\u001b[0m\n"
     ]
    }
   ],
   "source": [
    "ostrowski.general_Ostrowski_inequality((3/46)*f(x) + (4107/11086)*f((88/111)*x + (23/111)*y) \\\n",
    "                                       + (136/241)*f((1/4)*x + (3/4)*y))"
   ]
  },
  {
   "cell_type": "code",
   "execution_count": null,
   "metadata": {},
   "outputs": [],
   "source": []
  },
  {
   "cell_type": "markdown",
   "metadata": {},
   "source": [
    "**Example 38:** The arithmetic mean of the left and right sides of the Hermite-Hadamard inequality also known as the Bullen inequality. Let $f:[0,1]\\rightarrow \\mathbb{R},$\n",
    "<br>\n",
    "$$\\left|\\frac{1}{4}\\left[f(x) + 2f\\left(\\frac{x+y}{2}\\right) + f(y)\\right]- \\frac{1}{y-x}\\int_x^y f(t)dt\\right|$$"
   ]
  },
  {
   "cell_type": "code",
   "execution_count": 39,
   "metadata": {},
   "outputs": [
    {
     "name": "stdout",
     "output_type": "stream",
     "text": [
      "The difference is equal to: \u001b[1;34m1/8\u001b[0m\n"
     ]
    }
   ],
   "source": [
    "ostrowski.general_Ostrowski_inequality((1/4)*(f(x)+ 2*f((x+y)/2) + f(y)))"
   ]
  },
  {
   "cell_type": "code",
   "execution_count": null,
   "metadata": {},
   "outputs": [],
   "source": []
  },
  {
   "cell_type": "markdown",
   "metadata": {},
   "source": [
    "**Example 39:** The arithmetic mean of the  left and right 2-point Radau quadratures. Suppose that $f:[0,1]\\rightarrow \\mathbb{R},$\n",
    "<br>\n",
    "$$\\left|\\tfrac{1}{2}\\left[\\tfrac{1}{4}f(x) + \\tfrac{3}{4}f\\left(\\tfrac{1}{3}x + \\tfrac{2}{3}y\\right) + \\tfrac{3}{4}f\\left(\\tfrac{2}{3}x + \\tfrac{1}{3}y\\right) +\\tfrac{1}{4}f(y) \\right]- \\frac{1}{y-x}\\int_x^y f(t)dt\\right|$$"
   ]
  },
  {
   "cell_type": "code",
   "execution_count": 40,
   "metadata": {},
   "outputs": [
    {
     "name": "stdout",
     "output_type": "stream",
     "text": [
      "The difference is equal to: \u001b[1;34m25/288\u001b[0m\n"
     ]
    }
   ],
   "source": [
    "ostrowski.general_Ostrowski_inequality((1/2)*((1/4)*f(x) + (3/4)*f((1/3)*x + (2/3)*y)  \\\n",
    "                                              + (3/4)*f((2/3)*x+ (1/3)*y)+ (1/4)*f(y)))"
   ]
  },
  {
   "cell_type": "code",
   "execution_count": null,
   "metadata": {},
   "outputs": [],
   "source": []
  },
  {
   "cell_type": "markdown",
   "metadata": {},
   "source": [
    "**Example 40:** The arithmetic mean of 2-point Gauss and 3-point Lobatto (i.e. Simpson) quadratures. Suppose that $f:[0,1]\\rightarrow \\mathbb{R},$\n",
    "<br>\n",
    "<br>\n",
    "$$\\textstyle \\left| \\frac{1}{2}\\left[\\frac{1}{2}f\\left(\\frac{3+\\sqrt3}{6}x + \\frac{3-\\sqrt3}{6}y\\right) + \\frac{1}{2}f\\left(\\frac{3-\\sqrt3}{6}x + \\frac{3+\\sqrt3}{6}y\\right) + \\frac{1}{6}f(x) + \\frac{2}{3}f\\left(\\frac{x+y}{2}\\right) + \\frac{1}{6}f(y)\\right]- \\frac{1}{y-x}\\int_x^y f(t)dt\\right|$$"
   ]
  },
  {
   "cell_type": "code",
   "execution_count": 41,
   "metadata": {},
   "outputs": [
    {
     "name": "stdout",
     "output_type": "stream",
     "text": [
      "The difference is equal to: \u001b[1;34m60117/911000\u001b[0m\n"
     ]
    }
   ],
   "source": [
    "ostrowski.general_Ostrowski_inequality((1/2)*((1/2)*(f(((3+sqrt(3))/6)*x + ((3-sqrt(3))/6)*y))\\\n",
    "                                              + (1/2)*(f(((3-sqrt(3))/6)*x + ((3+sqrt(3))/6)*y))\\\n",
    "                  +(1/6)*f(x) + (2/3)*f((x+y)*(1/2)) + (1/6)*f(y)))"
   ]
  },
  {
   "cell_type": "code",
   "execution_count": null,
   "metadata": {},
   "outputs": [],
   "source": []
  }
 ],
 "metadata": {
  "kernelspec": {
   "display_name": "Python 3",
   "language": "python",
   "name": "python3"
  },
  "language_info": {
   "codemirror_mode": {
    "name": "ipython",
    "version": 3
   },
   "file_extension": ".py",
   "mimetype": "text/x-python",
   "name": "python",
   "nbconvert_exporter": "python",
   "pygments_lexer": "ipython3",
   "version": "3.7.7"
  }
 },
 "nbformat": 4,
 "nbformat_minor": 4
}
